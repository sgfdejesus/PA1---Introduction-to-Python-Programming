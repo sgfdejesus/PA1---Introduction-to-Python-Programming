{
 "cells": [
  {
   "cell_type": "markdown",
   "id": "649a0ab6-9cd3-4fa4-962b-267ca0c81df1",
   "metadata": {},
   "source": [
    "# ALPHABET SOUP PROBLEM"
   ]
  },
  {
   "cell_type": "code",
   "execution_count": null,
   "id": "ff4f080e-0710-48a3-b61d-9622680c06a0",
   "metadata": {},
   "outputs": [],
   "source": [
    "def alphabet_soup (word):\n",
    "    #Sort the characters and join them into a single string\n",
    "    return ''.join(sorted(word))\n",
    "\n",
    "#Ask the user for input\n",
    "user_word = input(\"Enter a word: \")\n",
    "\n",
    "#Get and print the alphabetically sorted word\n",
    "print(alphabet_soup(user_word))"
   ]
  },
  {
   "cell_type": "markdown",
   "id": "41370047-af2d-4d64-984a-70dce71aa196",
   "metadata": {},
   "source": [
    "# EMOTICON PROBLEM"
   ]
  },
  {
   "cell_type": "code",
   "execution_count": null,
   "id": "b44a8c56-1ecd-4f7d-a39f-0a480201f987",
   "metadata": {},
   "outputs": [],
   "source": [
    "def emotify(sentence):\n",
    "    #Dictionary with words and their emoticons\n",
    "    emoticon_dict = { \"smile\": \":)\", \"grin\": \":D\", \"sad\": \":((\", \"mad\": \">:(\"}\n",
    "\n",
    "    #Split the sentence into a list of words\n",
    "    words = sentence.split()\n",
    "\n",
    "    #Replace words with emoticons if they are in the dictionary\n",
    "    for i in range(len(words)):\n",
    "        if words[i] in emoticon_dict:\n",
    "            words[i] = emoticon_dict[words[i]]\n",
    "\n",
    "    #Combine the list of words back into a single string\n",
    "    new_sentence = \" \".join(words)\n",
    "\n",
    "    #Return the sentence with emoticons\n",
    "    return new_sentence\n",
    "\n",
    "#Ask the user for a sentence\n",
    "user_sentence = input (\"Enter a sentence: \")\n",
    "\n",
    "#Print the sentence with emoticons\n",
    "print(emotify(user_sentence))"
   ]
  },
  {
   "cell_type": "markdown",
   "id": "6bd7a139-1dff-41f5-96c0-f835a11184be",
   "metadata": {},
   "source": [
    "# UNPACKING LIST PROBLEM"
   ]
  },
  {
   "cell_type": "code",
   "execution_count": null,
   "id": "fdd41299-c474-4983-b3af-58a68a220703",
   "metadata": {},
   "outputs": [],
   "source": [
    "#Ask the user for input\n",
    "user_input = input(\"Enter a list of numbers separated by spaces: \")\n",
    "\n",
    "#Convert the user input into a list of integers\n",
    "writeyourcodehere = list(map(int, user_input.split()))\n",
    "\n",
    "#Unpack the list\n",
    "#'first' gets the first element\n",
    "#'*middle' gets all the elements between the first and last\n",
    "#'last' gets the last element\n",
    "first, *middle, last = writeyourcodehere\n",
    "\n",
    "#Print the variables\n",
    "print(\"first:\", first)\n",
    "print(\"middle:\", middle)\n",
    "print(\"last:\", last)"
   ]
  },
  {
   "cell_type": "code",
   "execution_count": null,
   "id": "eb0b217e-baaa-424a-b362-226717b8350e",
   "metadata": {},
   "outputs": [],
   "source": []
  }
 ],
 "metadata": {
  "kernelspec": {
   "display_name": "Python 3 (ipykernel)",
   "language": "python",
   "name": "python3"
  },
  "language_info": {
   "codemirror_mode": {
    "name": "ipython",
    "version": 3
   },
   "file_extension": ".py",
   "mimetype": "text/x-python",
   "name": "python",
   "nbconvert_exporter": "python",
   "pygments_lexer": "ipython3",
   "version": "3.12.4"
  }
 },
 "nbformat": 4,
 "nbformat_minor": 5
}
